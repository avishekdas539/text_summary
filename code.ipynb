{
 "cells": [
  {
   "attachments": {},
   "cell_type": "markdown",
   "metadata": {},
   "source": [
    "# KeywordExtractor using TextRank algorithm\n",
    "* TextRank algorithm is inspired from PageRank algorithm. The following code is developed by taking reference of the paper below.\n",
    "* Link to the paper <a>https://web.eecs.umich.edu/~mihalcea/papers/mihalcea.emnlp04.pdf</a>"
   ]
  },
  {
   "cell_type": "code",
   "execution_count": 6,
   "metadata": {},
   "outputs": [],
   "source": [
    "from text_summary import KeywordExtractor"
   ]
  },
  {
   "cell_type": "code",
   "execution_count": 7,
   "metadata": {},
   "outputs": [],
   "source": [
    "text = '''On June 7, Madhya Pradesh chief minister Shivraj Singh Chouhan told the state's chief secretary and DGP to probe the role of the management of the Ganga Jamna School in Damoh from multiple angles. Chouhan asked them to include allegations pertaining to land encroachment, evasion of GST, and also religious conversion—a theme that has been playing out regularly in MP ahead of assembly elections.\n",
    "\n",
    "The Ganga Jamna School came in the news when right-wing Hindu outfits accused the school management of forcing non-Muslim students to wear the hijab as part of the school uniform. The outfits raised the issue when the school put out a poster with pictures of girls who had done well in the Class 12 exams. The poster included pictures of non-Muslim girls wearing the hijab.\n",
    "\n",
    "The owner of the school, Mushtaq Khan, clarified that the head gear was a scarf and part of the uniform, but not mandatory. The Muslim family that runs the school has other businesses as well, such as of beedi and pulses.\n",
    "\n",
    "Soon after, Damoh district magistrate Mayank Agarwal asked district education officer (DEO) S.K. Mishra and the Damoh police to look into the allegations. After receiving the report of the DEO and the police, the collector gave the school an all clear. This, however, made the state BJP turn against the district administration.\n",
    "\n",
    "On June 5, top BJP leaders in the state accused the school of carrying out religious conversions. Three faculty members, all women, were claimed to have been converted to the Islamic faith. The faculty members, however, said they had not been converted by the school and had changed their faith after marriage to Muslims.'''.replace(\"\\n\", \"\").lower()"
   ]
  },
  {
   "cell_type": "code",
   "execution_count": 9,
   "metadata": {},
   "outputs": [],
   "source": [
    "extractor = KeywordExtractor()"
   ]
  },
  {
   "cell_type": "code",
   "execution_count": 10,
   "metadata": {},
   "outputs": [],
   "source": [
    "extractor.analyze(text, pos_to_consider=['NOUN', 'PROPN'])"
   ]
  },
  {
   "cell_type": "code",
   "execution_count": 11,
   "metadata": {},
   "outputs": [
    {
     "data": {
      "text/plain": [
       "[['school', 6.73467258794845],\n",
       " ['district', 2.2207251082251083],\n",
       " ['damoh', 1.9007771060357266],\n",
       " ['state', 1.7391789819376027],\n",
       " ['ganga', 1.5435440613026818],\n",
       " ['management', 1.5248370403542815],\n",
       " ['chouhan', 1.4199404761904764],\n",
       " ['deo', 1.3249726327312534],\n",
       " ['bjp', 1.2710043787629992],\n",
       " ['girls', 1.2451833607006022],\n",
       " ['june', 1.2183853311439519],\n",
       " ['pictures', 1.2162060879733296],\n",
       " ['poster', 1.1921064711150917],\n",
       " ['outfits', 1.1672666940339353],\n",
       " ['members', 1.1421551724137933],\n",
       " ['faith', 1.1421551724137933],\n",
       " ['allegations', 1.077579365079365],\n",
       " ['gst', 1.0387896825396825],\n",
       " ['khan', 1.0379289819376025],\n",
       " ['police', 1.0362731377817584]]"
      ]
     },
     "execution_count": 11,
     "metadata": {},
     "output_type": "execute_result"
    }
   ],
   "source": [
    "extractor.getKeywords(20)"
   ]
  },
  {
   "cell_type": "code",
   "execution_count": 8,
   "metadata": {},
   "outputs": [],
   "source": [
    "text2 = '''THAKURNACAR (NORTH 24 PARGANAS): Political fissures within Bongaon's\n",
    "Thakurbari came to the fore on Sunday when Trinamool national general\n",
    "secretary Abhishek Banerjee was not allowed to offer prayers at the main temple\n",
    "oftwo iconic Matua spiritual leaders, Harichand and Curuchand Thakur.\n",
    "A section of Matuas owing allegiance to BJP MP and junior Union minister\n",
    "Shantanu Thakur forcibly closed the main door around 2.45pm and gheraoed the\n",
    "temple with 'go back' slogans.\n",
    "Trinamool alleged that central forces, accompanying Thakur, had stepped inside\n",
    "the temple complex and assaulted their women leaders. BJP later claimed that\n",
    "MLA Ashoke Kirtaniya and several others were injured during a police lathicharge.\n",
    "Sources said around 15 people (belonging to both parties) sustained minor injuries\n",
    "as the stand-off in the morning spilled into the hospital in the evening. Opposition\n",
    "leader Suvendu Adhikari and Thakur wrote to Union home minister Amit Shah\n",
    "claiming that Trina mool had vandalised the temple.\n",
    "Banerjee, speaking to supporters outside the temple, said: \"In the coming days,\n",
    "those who do politics with religions are bound to fall. None can stop their fall.\"\n",
    "Attacking Thakur, he said: 'Thakurbari is not your ancestral property.\"'''.replace(\"\\n\", \"\").lower()"
   ]
  },
  {
   "cell_type": "code",
   "execution_count": 12,
   "metadata": {},
   "outputs": [],
   "source": [
    "extractor.analyze(text2, pos_to_consider=['NOUN', 'PROPN'])"
   ]
  },
  {
   "cell_type": "code",
   "execution_count": 13,
   "metadata": {},
   "outputs": [
    {
     "data": {
      "text/plain": [
       "[['thakur', 3.0201877480158723],\n",
       " ['union', 1.7683706644917585],\n",
       " ['temple', 1.6572780353327228],\n",
       " ['leaders', 1.391884768009768],\n",
       " ['police', 1.1969419642857142],\n",
       " ['injuriesas', 1.1969419642857142],\n",
       " ['lathicharge.sources', 1.1936026785714287],\n",
       " ['parties', 1.1936026785714287],\n",
       " ['people', 1.1919330357142859],\n",
       " [\"bongaon'sthakurbari\", 1.1543660714285715],\n",
       " ['fore', 1.1254192708333333],\n",
       " ['sunday', 1.0959665178571427],\n",
       " ['trinamool', 1.0644203869047617],\n",
       " ['kirtaniya', 1.063471726190476],\n",
       " ['stand', 1.063471726190476],\n",
       " ['supporters', 1.0619100847069596],\n",
       " ['fissures', 1.0443340773809524],\n",
       " ['temple.banerjee', 1.0361680546016483],\n",
       " ['national', 1.0350498511904762],\n",
       " ['mool', 1.0141131524725275]]"
      ]
     },
     "execution_count": 13,
     "metadata": {},
     "output_type": "execute_result"
    }
   ],
   "source": [
    "extractor.getKeywords(20)"
   ]
  },
  {
   "cell_type": "code",
   "execution_count": 14,
   "metadata": {},
   "outputs": [],
   "source": [
    "text3 = '''MUMBAI: Parts of Bandra West faced power cuts on Thursday afternoon that lasted\n",
    "for nearly one-and-a-half hours, leaving several residents frustrated in hot and\n",
    "humid weather. Residents were without fans and air conditioners in the sultry\n",
    "weather.\n",
    "The outage occurred in Pali market and nearby areas around 1.40 pm and the\n",
    "power was restored by around 3 pm. An official from Adani Electricity said that the\n",
    "fault was in the LT (lot tension) pillar cable and this was a \"local issue\" and not a\n",
    "major problem. \"Our technicians visited the site and rectified the problem at the\n",
    "earliest,\" he added. Residents in various parts of the city have been complaining of\n",
    "power cuts in recent weeks.'''"
   ]
  },
  {
   "cell_type": "code",
   "execution_count": 15,
   "metadata": {},
   "outputs": [],
   "source": [
    "extractor.analyze(text3, pos_to_consider=['NOUN', 'PROPN'])"
   ]
  },
  {
   "cell_type": "code",
   "execution_count": 16,
   "metadata": {},
   "outputs": [
    {
     "data": {
      "text/plain": [
       "[['power', 2.44637987012987],\n",
       " ['residents', 1.7911715367965368],\n",
       " ['problem', 1.5393452380952382],\n",
       " ['cuts', 1.5013988095238093],\n",
       " ['lt', 1.2711904761904762],\n",
       " ['lot', 1.2286904761904762],\n",
       " ['weather', 1.2276785714285712],\n",
       " ['pm', 1.2125],\n",
       " ['parts', 1.2093262987012987],\n",
       " ['tension', 1.200357142857143],\n",
       " ['fault', 1.114345238095238],\n",
       " ['pillar', 1.0435119047619046],\n",
       " ['thursday', 0.9836715367965367],\n",
       " ['electricity', 0.9726785714285714],\n",
       " ['afternoon', 0.9634334415584416],\n",
       " ['west', 0.953314393939394],\n",
       " ['cable', 0.9018452380952381],\n",
       " ['adani', 0.8380952380952381],\n",
       " ['bandra', 0.8268262987012986],\n",
       " ['half', 0.8268262987012985]]"
      ]
     },
     "execution_count": 16,
     "metadata": {},
     "output_type": "execute_result"
    }
   ],
   "source": [
    "extractor.getKeywords(20)"
   ]
  },
  {
   "cell_type": "code",
   "execution_count": null,
   "metadata": {},
   "outputs": [],
   "source": []
  }
 ],
 "metadata": {
  "kernelspec": {
   "display_name": "Python 3",
   "language": "python",
   "name": "python3"
  },
  "language_info": {
   "codemirror_mode": {
    "name": "ipython",
    "version": 3
   },
   "file_extension": ".py",
   "mimetype": "text/x-python",
   "name": "python",
   "nbconvert_exporter": "python",
   "pygments_lexer": "ipython3",
   "version": "3.10.5"
  },
  "orig_nbformat": 4
 },
 "nbformat": 4,
 "nbformat_minor": 2
}
