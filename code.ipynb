{
 "cells": [
  {
   "attachments": {},
   "cell_type": "markdown",
   "metadata": {},
   "source": [
    "# KeywordExtractor using TextRank algorithm\n",
    "* TextRank algorithm is inspired from PageRank algorithm. The following code is developed by taking reference of the paper below.\n",
    "* Link to the paper <a>https://web.eecs.umich.edu/~mihalcea/papers/mihalcea.emnlp04.pdf</a>"
   ]
  },
  {
   "cell_type": "code",
   "execution_count": 3,
   "metadata": {},
   "outputs": [],
   "source": [
    "from text_summary import KeywordExtractor"
   ]
  },
  {
   "cell_type": "code",
   "execution_count": 4,
   "metadata": {},
   "outputs": [],
   "source": [
    "text = '''In 2019, the world was struck by a novel coronavirus, COVID-19, unleashing an unprecedented global health crisis. The virus rapidly spread across borders, impacting every facet of human life. Governments enforced strict measures to curb its transmission, including lockdowns, travel restrictions, and mass vaccination campaigns.\n",
    "COVID-19, primarily transmitted through respiratory droplets, caused severe respiratory illness, leading to a significant loss of life. The pandemic strained healthcare systems, disrupted economies, and sparked social upheaval. Researchers and scientists worked tirelessly to develop effective vaccines, offering hope for a brighter future.\n",
    "Though progress has been made, vigilance remains crucial. COVID-19 serves as a reminder of our vulnerability and the need for international cooperation to combat infectious diseases.\n",
    "'''.replace(\"\\n\", \"\").lower()"
   ]
  },
  {
   "cell_type": "code",
   "execution_count": 5,
   "metadata": {},
   "outputs": [],
   "source": [
    "extractor = KeywordExtractor()"
   ]
  },
  {
   "cell_type": "code",
   "execution_count": 6,
   "metadata": {},
   "outputs": [],
   "source": [
    "extractor.analyze(text, pos_to_consider=['NOUN', 'PROPN'])"
   ]
  },
  {
   "cell_type": "code",
   "execution_count": 8,
   "metadata": {},
   "outputs": [
    {
     "data": {
      "text/plain": [
       "[['life', 1.5393452380952382],\n",
       " ['travel', 1.220595238095238],\n",
       " ['restrictions', 1.1295238095238096],\n",
       " ['vaccination', 1.1295238095238096],\n",
       " ['campaigns.covid-19', 1.1295238095238096],\n",
       " ['mass', 1.1011904761904763],\n",
       " ['lockdowns', 1.0991666666666666],\n",
       " ['scientists', 1.085],\n",
       " ['vaccines', 1.085],\n",
       " ['hope', 1.085],\n",
       " ['progress', 1.085],\n",
       " ['droplets', 1.0080952380952382],\n",
       " ['world', 1.0],\n",
       " ['coronavirus', 1.0],\n",
       " ['covid-19', 1.0],\n",
       " ['health', 1.0],\n",
       " ['crisis', 1.0],\n",
       " ['healthcare', 1.0],\n",
       " ['systems', 1.0],\n",
       " ['economies', 1.0]]"
      ]
     },
     "execution_count": 8,
     "metadata": {},
     "output_type": "execute_result"
    }
   ],
   "source": [
    "extractor.getKeywords(20)"
   ]
  },
  {
   "cell_type": "code",
   "execution_count": 9,
   "metadata": {},
   "outputs": [],
   "source": [
    "text2 = '''In the era of digital transformation, data science has emerged as a game-changer, revolutionizing the way businesses operate and unlocking insights previously hidden in vast amounts of information. With the explosion of data and advancements in technology, organizations are leveraging data science to drive innovation, make informed decisions, and gain a competitive edge.\n",
    "Data scientists employ sophisticated techniques to extract valuable insights from complex datasets. They utilize statistical analysis, machine learning, and artificial intelligence algorithms to uncover patterns, predict outcomes, and automate processes. The applications of data science span across industries, from healthcare and finance to marketing and transportation.\n",
    "This new age of data science empowers businesses to optimize operations, personalize customer experiences, and improve products and services. It enables targeted marketing campaigns, fraud detection, demand forecasting, and precision medicine, among numerous other applications.\n",
    "However, with great power comes great responsibility. Ethical considerations around data privacy, bias, and transparency must be at the forefront of data science practices. As data becomes the lifeblood of organizations, maintaining data integrity and safeguarding privacy are critical.\"'''.replace(\"\\n\", \"\").lower()"
   ]
  },
  {
   "cell_type": "code",
   "execution_count": 10,
   "metadata": {},
   "outputs": [],
   "source": [
    "extractor.analyze(text2, pos_to_consider=['NOUN', 'PROPN'])"
   ]
  },
  {
   "cell_type": "code",
   "execution_count": 11,
   "metadata": {},
   "outputs": [
    {
     "data": {
      "text/plain": [
       "[['data', 5.256035109081421],\n",
       " ['science', 3.61465921675224],\n",
       " ['businesses', 1.6940290853893503],\n",
       " ['insights', 1.6000595238095237],\n",
       " ['organizations', 1.3838849110881988],\n",
       " ['marketing', 1.3455658819261465],\n",
       " ['intelligence', 1.3197619047619047],\n",
       " ['algorithms', 1.3197619047619047],\n",
       " ['precision', 1.2711904761904762],\n",
       " ['forecasting', 1.2286904761904762],\n",
       " ['privacy', 1.2109147538508003],\n",
       " ['demand', 1.1295238095238096],\n",
       " ['medicine', 1.114345238095238],\n",
       " ['learning', 1.0870238095238096],\n",
       " ['patterns', 1.0870238095238096],\n",
       " ['operations', 1.011637310497575],\n",
       " ['transparency', 0.9811468158501037],\n",
       " ['detection', 0.9726785714285714],\n",
       " ['applications.however', 0.9726785714285714],\n",
       " ['decisions', 0.9354684793287439]]"
      ]
     },
     "execution_count": 11,
     "metadata": {},
     "output_type": "execute_result"
    }
   ],
   "source": [
    "extractor.getKeywords(20)"
   ]
  },
  {
   "cell_type": "code",
   "execution_count": 12,
   "metadata": {},
   "outputs": [],
   "source": [
    "text3 = '''In today's data-driven world, data literacy has become a fundamental skill for individuals to navigate and thrive in the digital landscape. Data literacy refers to the ability to understand, interpret, and communicate insights from data effectively. It empowers individuals to make informed decisions, identify trends, and critically evaluate information.\n",
    "With the increasing availability of data, from social media metrics to business analytics, data literacy bridges the gap between raw data and actionable knowledge. It enables individuals to question assumptions, challenge biases, and draw meaningful conclusions from data sources.\n",
    "By fostering data literacy, we equip individuals with the skills needed to engage with data responsibly, contributing to a more informed society. In an era of fake news and misinformation, data literacy serves as a shield against manipulation and empowers individuals to become discerning consumers of information.\n",
    "As data continues to shape our lives, investing in data literacy is crucial. Organizations, educational institutions, and governments must prioritize initiatives that promote data literacy, ensuring that individuals can harness the power of data for personal and societal benefit.'''"
   ]
  },
  {
   "cell_type": "code",
   "execution_count": 13,
   "metadata": {},
   "outputs": [],
   "source": [
    "extractor.analyze(text3, pos_to_consider=['NOUN', 'PROPN'], lower=True)"
   ]
  },
  {
   "cell_type": "code",
   "execution_count": 14,
   "metadata": {},
   "outputs": [
    {
     "data": {
      "text/plain": [
       "[['data', 7.718808441558441],\n",
       " ['literacy', 4.604183982683982],\n",
       " ['individuals', 3.439297619047619],\n",
       " ['information', 1.1529816017316015],\n",
       " ['shield', 0.9807554112554113],\n",
       " ['business', 0.953047619047619],\n",
       " ['initiatives', 0.9018268398268399],\n",
       " ['biases', 0.871469696969697],\n",
       " ['challenge', 0.8714696969696969],\n",
       " ['conclusions', 0.8714696969696969],\n",
       " ['misinformation', 0.8075357142857142],\n",
       " ['metrics', 0.7962023809523809],\n",
       " ['manipulation', 0.7955768398268398],\n",
       " ['media', 0.7456071428571429],\n",
       " ['governments', 0.7399220779220779],\n",
       " ['analytics', 0.7253690476190476],\n",
       " ['gap', 0.7253690476190476],\n",
       " ['world', 0.7063268398268399],\n",
       " ['institutions', 0.672952380952381],\n",
       " ['news', 0.6577738095238095]]"
      ]
     },
     "execution_count": 14,
     "metadata": {},
     "output_type": "execute_result"
    }
   ],
   "source": [
    "extractor.getKeywords(20)"
   ]
  },
  {
   "cell_type": "code",
   "execution_count": null,
   "metadata": {},
   "outputs": [],
   "source": []
  }
 ],
 "metadata": {
  "kernelspec": {
   "display_name": "Python 3",
   "language": "python",
   "name": "python3"
  },
  "language_info": {
   "codemirror_mode": {
    "name": "ipython",
    "version": 3
   },
   "file_extension": ".py",
   "mimetype": "text/x-python",
   "name": "python",
   "nbconvert_exporter": "python",
   "pygments_lexer": "ipython3",
   "version": "3.10.5"
  },
  "orig_nbformat": 4
 },
 "nbformat": 4,
 "nbformat_minor": 2
}
